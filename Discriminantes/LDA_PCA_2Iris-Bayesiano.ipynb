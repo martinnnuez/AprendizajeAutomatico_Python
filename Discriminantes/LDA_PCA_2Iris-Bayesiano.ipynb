{
 "cells": [
  {
   "cell_type": "markdown",
   "metadata": {},
   "source": [
    "Copyright (c) 2021 [Georgina Flesia](georgina.flesia@unc.edu.ar)\n",
    "\n",
    "<center>\n",
    "<img src=\"../images/ods_stickers.jpg\" />\n",
    "    \n",
    "## Introducción al Machine Learning\n",
    "\n",
    "Traducido y editado al español por [Ana Georgina Flesia](https://www.linkedin.com/in/georginaflesia/). Este material esta sujeto a los términos y condiciones de la licencia  [Creative Commons CC BY-NC-SA 4.0](https://creativecommons.org/licenses/by-nc-sa/4.0/). Se permite el uso irrestricto para todo propósito no comercial."
   ]
  },
  {
   "cell_type": "markdown",
   "metadata": {},
   "source": [
    "###  Vamos a estudiar Clasificación Bayesiana Lineal con parámetros estimados por máxima verosimilitud."
   ]
  },
  {
   "cell_type": "markdown",
   "metadata": {},
   "source": [
    "Importamos los clasificadores desde sklearn"
   ]
  },
  {
   "cell_type": "code",
   "execution_count": 57,
   "metadata": {},
   "outputs": [],
   "source": [
    "from sklearn.discriminant_analysis import LinearDiscriminantAnalysis\n",
    "from sklearn.discriminant_analysis import QuadraticDiscriminantAnalysis\n",
    "\n",
    "from sklearn import decomposition\n"
   ]
  },
  {
   "cell_type": "markdown",
   "metadata": {},
   "source": [
    "Importamos los paquetes de visualización Seaborn y Matplotlib"
   ]
  },
  {
   "cell_type": "code",
   "execution_count": 58,
   "metadata": {},
   "outputs": [],
   "source": [
    "import seaborn as sns\n",
    "import matplotlib.pyplot as plt\n",
    "from matplotlib import colors\n",
    "from mpl_toolkits.mplot3d import Axes3D"
   ]
  },
  {
   "cell_type": "markdown",
   "metadata": {},
   "source": [
    "Levantamos los datos de Iris que tienen tres clases y cuatro variables y pocos datos, para poder visualizar mas fácilmente la región de clasificación"
   ]
  },
  {
   "cell_type": "code",
   "execution_count": 59,
   "metadata": {},
   "outputs": [
    {
     "data": {
      "text/html": [
       "<div>\n",
       "<style scoped>\n",
       "    .dataframe tbody tr th:only-of-type {\n",
       "        vertical-align: middle;\n",
       "    }\n",
       "\n",
       "    .dataframe tbody tr th {\n",
       "        vertical-align: top;\n",
       "    }\n",
       "\n",
       "    .dataframe thead th {\n",
       "        text-align: right;\n",
       "    }\n",
       "</style>\n",
       "<table border=\"1\" class=\"dataframe\">\n",
       "  <thead>\n",
       "    <tr style=\"text-align: right;\">\n",
       "      <th></th>\n",
       "      <th>sepal_length</th>\n",
       "      <th>sepal_width</th>\n",
       "      <th>petal_length</th>\n",
       "      <th>petal_width</th>\n",
       "      <th>species</th>\n",
       "    </tr>\n",
       "  </thead>\n",
       "  <tbody>\n",
       "    <tr>\n",
       "      <th>0</th>\n",
       "      <td>5.1</td>\n",
       "      <td>3.5</td>\n",
       "      <td>1.4</td>\n",
       "      <td>0.2</td>\n",
       "      <td>setosa</td>\n",
       "    </tr>\n",
       "    <tr>\n",
       "      <th>1</th>\n",
       "      <td>4.9</td>\n",
       "      <td>3.0</td>\n",
       "      <td>1.4</td>\n",
       "      <td>0.2</td>\n",
       "      <td>setosa</td>\n",
       "    </tr>\n",
       "    <tr>\n",
       "      <th>2</th>\n",
       "      <td>4.7</td>\n",
       "      <td>3.2</td>\n",
       "      <td>1.3</td>\n",
       "      <td>0.2</td>\n",
       "      <td>setosa</td>\n",
       "    </tr>\n",
       "    <tr>\n",
       "      <th>3</th>\n",
       "      <td>4.6</td>\n",
       "      <td>3.1</td>\n",
       "      <td>1.5</td>\n",
       "      <td>0.2</td>\n",
       "      <td>setosa</td>\n",
       "    </tr>\n",
       "    <tr>\n",
       "      <th>4</th>\n",
       "      <td>5.0</td>\n",
       "      <td>3.6</td>\n",
       "      <td>1.4</td>\n",
       "      <td>0.2</td>\n",
       "      <td>setosa</td>\n",
       "    </tr>\n",
       "  </tbody>\n",
       "</table>\n",
       "</div>"
      ],
      "text/plain": [
       "   sepal_length  sepal_width  petal_length  petal_width species\n",
       "0           5.1          3.5           1.4          0.2  setosa\n",
       "1           4.9          3.0           1.4          0.2  setosa\n",
       "2           4.7          3.2           1.3          0.2  setosa\n",
       "3           4.6          3.1           1.5          0.2  setosa\n",
       "4           5.0          3.6           1.4          0.2  setosa"
      ]
     },
     "execution_count": 59,
     "metadata": {},
     "output_type": "execute_result"
    }
   ],
   "source": [
    "import pandas as pd\n",
    "import numpy as np\n",
    "\n",
    "\n",
    "\n",
    "iris = sns.load_dataset(\"iris\")\n",
    "iris.head()"
   ]
  },
  {
   "cell_type": "markdown",
   "metadata": {},
   "source": [
    "Primera visualización de datos solo con dos clases, para ello armo el dataframe iris2, lo ploteo sobre las primeras dos variables a las cuales llamo por nombre"
   ]
  },
  {
   "cell_type": "code",
   "execution_count": 60,
   "metadata": {
    "scrolled": true
   },
   "outputs": [
    {
     "data": {
      "text/html": [
       "<div>\n",
       "<style scoped>\n",
       "    .dataframe tbody tr th:only-of-type {\n",
       "        vertical-align: middle;\n",
       "    }\n",
       "\n",
       "    .dataframe tbody tr th {\n",
       "        vertical-align: top;\n",
       "    }\n",
       "\n",
       "    .dataframe thead th {\n",
       "        text-align: right;\n",
       "    }\n",
       "</style>\n",
       "<table border=\"1\" class=\"dataframe\">\n",
       "  <thead>\n",
       "    <tr style=\"text-align: right;\">\n",
       "      <th></th>\n",
       "      <th>index</th>\n",
       "      <th>sepal_length</th>\n",
       "      <th>sepal_width</th>\n",
       "      <th>petal_length</th>\n",
       "      <th>petal_width</th>\n",
       "      <th>species</th>\n",
       "    </tr>\n",
       "  </thead>\n",
       "  <tbody>\n",
       "    <tr>\n",
       "      <th>0</th>\n",
       "      <td>50</td>\n",
       "      <td>7.0</td>\n",
       "      <td>3.2</td>\n",
       "      <td>4.7</td>\n",
       "      <td>1.4</td>\n",
       "      <td>versicolor</td>\n",
       "    </tr>\n",
       "    <tr>\n",
       "      <th>1</th>\n",
       "      <td>51</td>\n",
       "      <td>6.4</td>\n",
       "      <td>3.2</td>\n",
       "      <td>4.5</td>\n",
       "      <td>1.5</td>\n",
       "      <td>versicolor</td>\n",
       "    </tr>\n",
       "    <tr>\n",
       "      <th>2</th>\n",
       "      <td>52</td>\n",
       "      <td>6.9</td>\n",
       "      <td>3.1</td>\n",
       "      <td>4.9</td>\n",
       "      <td>1.5</td>\n",
       "      <td>versicolor</td>\n",
       "    </tr>\n",
       "    <tr>\n",
       "      <th>3</th>\n",
       "      <td>53</td>\n",
       "      <td>5.5</td>\n",
       "      <td>2.3</td>\n",
       "      <td>4.0</td>\n",
       "      <td>1.3</td>\n",
       "      <td>versicolor</td>\n",
       "    </tr>\n",
       "    <tr>\n",
       "      <th>4</th>\n",
       "      <td>54</td>\n",
       "      <td>6.5</td>\n",
       "      <td>2.8</td>\n",
       "      <td>4.6</td>\n",
       "      <td>1.5</td>\n",
       "      <td>versicolor</td>\n",
       "    </tr>\n",
       "  </tbody>\n",
       "</table>\n",
       "</div>"
      ],
      "text/plain": [
       "   index  sepal_length  sepal_width  petal_length  petal_width     species\n",
       "0     50           7.0          3.2           4.7          1.4  versicolor\n",
       "1     51           6.4          3.2           4.5          1.5  versicolor\n",
       "2     52           6.9          3.1           4.9          1.5  versicolor\n",
       "3     53           5.5          2.3           4.0          1.3  versicolor\n",
       "4     54           6.5          2.8           4.6          1.5  versicolor"
      ]
     },
     "execution_count": 60,
     "metadata": {},
     "output_type": "execute_result"
    }
   ],
   "source": [
    "#hay una nueva columna llamada index, por lo cual todas las columnas se mueven a la derecha\n",
    "iris2 = iris.iloc[50:, :].reset_index()\n",
    "\n",
    "\n",
    "iris2.head()\n",
    "\n"
   ]
  },
  {
   "cell_type": "code",
   "execution_count": 61,
   "metadata": {},
   "outputs": [
    {
     "data": {
      "text/plain": [
       "Text(0.5, 1.0, 'Scatter plot Iris')"
      ]
     },
     "execution_count": 61,
     "metadata": {},
     "output_type": "execute_result"
    },
    {
     "data": {
      "image/png": "[encoded data removed]",
      "text/plain": [
       "<Figure size 372.75x288 with 1 Axes>"
      ]
     },
     "metadata": {
      "needs_background": "light"
     },
     "output_type": "display_data"
    }
   ],
   "source": [
    "\n",
    "g1=sns.FacetGrid(iris2, hue=\"species\", height=4) .map(plt.scatter,\"sepal_length\", \"sepal_width\" ).add_legend()\n",
    "g1.ax.set_xlim(4, 8)\n",
    "plt.title('Scatter plot Iris')\n",
    "#plt.savefig('images/01_lda_lda2.png', dpi=300)"
   ]
  },
  {
   "cell_type": "markdown",
   "metadata": {},
   "source": [
    "Para armar la clasificación extraemos ls variables  sepal length and sepal width, las  columnas 1 y 2 de los datos y  species la cual es la columna 5\n"
   ]
  },
  {
   "cell_type": "code",
   "execution_count": 62,
   "metadata": {},
   "outputs": [],
   "source": [
    "\n",
    "\n",
    "X_data2 = iris2.iloc[:, [1,2]].values\n",
    "y_data2 = iris2.iloc[:, 5].replace({'versicolor':1,'virginica':2}).copy()\n",
    "#print(y_data2)"
   ]
  },
  {
   "cell_type": "code",
   "execution_count": 63,
   "metadata": {},
   "outputs": [
    {
     "data": {
      "text/plain": [
       "LinearDiscriminantAnalysis(n_components=None, priors=None, shrinkage=None,\n",
       "                           solver='svd', store_covariance=True, tol=0.0001)"
      ]
     },
     "execution_count": 63,
     "metadata": {},
     "output_type": "execute_result"
    }
   ],
   "source": [
    "lda = LinearDiscriminantAnalysis(store_covariance=True)\n",
    "lda.fit(X_data2,y_data2)"
   ]
  },
  {
   "cell_type": "markdown",
   "metadata": {},
   "source": [
    "Ahora mostramos la región de decisión"
   ]
  },
  {
   "cell_type": "code",
   "execution_count": 64,
   "metadata": {},
   "outputs": [
    {
     "data": {
      "image/png": "[encoded data removed]",
      "text/plain": [
       "<Figure size 516.75x288 with 1 Axes>"
      ]
     },
     "metadata": {
      "needs_background": "light"
     },
     "output_type": "display_data"
    }
   ],
   "source": [
    "\n",
    "\n",
    "    \n",
    "# region de decisión \n",
    "N = 100\n",
    "X = np.linspace(4, 9, N)\n",
    "Y = np.linspace(1.5, 4, N)\n",
    "X, Y = np.meshgrid(X, Y)\n",
    "\n",
    "#fig = plt.figure(figsize = (10,10))\n",
    "#ax = fig.gca()\n",
    "color_list = ['Blues','Greens','Reds']\n",
    "my_norm = colors.Normalize(vmin=-1.,vmax=1.)\n",
    "\n",
    "g = sns.FacetGrid(iris2, hue=\"species\", height=4,aspect=1.5) .map(plt.scatter, \"sepal_length\", \"sepal_width\",).add_legend()\n",
    "my_ax = g.ax\n",
    "\n",
    "\n",
    "#calcular la funcion de clase predictiva para cada valor de la grilla \n",
    "zz = np.array(  [lda.predict( np.array([[xx,yy]])) \n",
    "                     for xx, yy in zip(np.ravel(X), np.ravel(Y)) ] )\n",
    "    \n",
    "#Rearmar las clases predichas en forma de meshgrid \n",
    "Z = zz.reshape(X.shape)\n",
    "\n",
    "\n",
    "#Graficar los contornos\n",
    "my_ax.contourf( X, Y, Z, 2, alpha = .1, colors = ('blue','green','red'))\n",
    "my_ax.contour( X, Y, Z, 2, alpha = 1, colors = ('blue','green','red'))\n",
    "\n",
    "# Addd axis and title\n",
    "my_ax.set_xlabel('sepal_length')\n",
    "my_ax.set_ylabel('sepal_width')\n",
    "my_ax.set_title('LDA y su región de decisión')\n",
    "\n",
    "\n",
    "#plt.savefig('images/02_pca_lda2.png', dpi=300)\n",
    "plt.show()"
   ]
  },
  {
   "cell_type": "markdown",
   "metadata": {},
   "source": [
    "Ahora miremos mejor como es la forma del clasificador lineal de dos clases calculando (m1 + m2)/2 el punto a partir del cual las proyecciones se dividen"
   ]
  },
  {
   "cell_type": "code",
   "execution_count": 65,
   "metadata": {},
   "outputs": [
    {
     "name": "stdout",
     "output_type": "stream",
     "text": [
      "2.1094237467877974e-15\n"
     ]
    }
   ],
   "source": [
    "lda = LinearDiscriminantAnalysis(n_components=1)\n",
    "X_r2 = lda.fit(X_data2,y_data2).transform(X_data2)\n",
    "m1=np.mean(X_r2[:50])\n",
    "m2=np.mean(X_r2[50:])\n",
    "print((m1+m2)/2)\n",
    "      \n"
   ]
  },
  {
   "cell_type": "markdown",
   "metadata": {},
   "source": [
    "Armo un dataframe para visualizar esas proyecciones"
   ]
  },
  {
   "cell_type": "code",
   "execution_count": 66,
   "metadata": {},
   "outputs": [],
   "source": [
    "l = [i for i in range(0,100)]\n",
    "df1 = pd.DataFrame(X_r2, columns=[\"LD1\"])\n",
    "df1['cases']=l\n",
    "df1['species'] = iris2.iloc[:, 5]"
   ]
  },
  {
   "cell_type": "markdown",
   "metadata": {},
   "source": [
    "Ahora lo grafico"
   ]
  },
  {
   "cell_type": "code",
   "execution_count": 67,
   "metadata": {},
   "outputs": [
    {
     "data": {
      "text/plain": [
       "[<matplotlib.lines.Line2D at 0x180b9f88240>]"
      ]
     },
     "execution_count": 67,
     "metadata": {},
     "output_type": "execute_result"
    },
    {
     "data": {
      "image/png": "[encoded data removed]",
      "text/plain": [
       "<Figure size 372.75x288 with 1 Axes>"
      ]
     },
     "metadata": {
      "needs_background": "light"
     },
     "output_type": "display_data"
    }
   ],
   "source": [
    "g=sns.FacetGrid(df1, hue=\"species\", height=4) .map(plt.scatter,\"cases\", \"LD1\", ).add_legend()\n",
    "plt.title('Scatter plot Iris LD1 vs cases')\n",
    "g.ax.set_xlabel('cases')\n",
    "g.ax.set_ylabel('LD1')\n",
    "#g.ax.set_xlim(-4, 4)\n",
    "\n",
    "#####horizontal line\n",
    "horiz_line_data = np.array([(m1+m2)/2 for i in range(0,100)])\n",
    "plt.plot(df1.cases, horiz_line_data, 'r--') "
   ]
  },
  {
   "cell_type": "markdown",
   "metadata": {},
   "source": [
    "Eso no es muy bueno, en esta proyeccion los datos se amontonan. no puedo hacer mas porque el número de discriminantes depende de las clases, no de las variables. Sin embargo hay cuatro variables y uso solo dos, puedo realizar algo mas. "
   ]
  },
  {
   "cell_type": "markdown",
   "metadata": {},
   "source": [
    "Realizo otra proyección con toda la información, buscando las primeras componentes principales. \n",
    "\n",
    "Para eso  extraemos todas las variables, las  columnas 1 a 4 de los datos y  species la cual es la columna 5"
   ]
  },
  {
   "cell_type": "code",
   "execution_count": 68,
   "metadata": {},
   "outputs": [
    {
     "name": "stdout",
     "output_type": "stream",
     "text": [
      "[0.83717573 0.08612781]\n"
     ]
    }
   ],
   "source": [
    "pca = decomposition.PCA(n_components=2)\n",
    "# extraigo cuatro variables \n",
    "X_data = iris2.iloc[:, 1:5].values\n",
    "#print(X_data)\n",
    "pca.fit(X_data)\n",
    "data = pca.transform(X_data)\n",
    "\n",
    "vr = pca.explained_variance_ratio_\n",
    "print(pca.explained_variance_ratio_)"
   ]
  },
  {
   "cell_type": "markdown",
   "metadata": {},
   "source": [
    "Proyecto los datos para verlos sobre las primeras dos componentes principales"
   ]
  },
  {
   "cell_type": "code",
   "execution_count": 69,
   "metadata": {},
   "outputs": [],
   "source": [
    "df = pd.DataFrame(data, columns=[\"PC1\", \"PC2\"])\n",
    "df['species'] = iris2['species']\n",
    "y_labels = iris.iloc[50:, 4].replace({'versicolor':1,'virginica':2}).copy()"
   ]
  },
  {
   "cell_type": "code",
   "execution_count": 70,
   "metadata": {},
   "outputs": [
    {
     "data": {
      "text/plain": [
       "Text(33.04657118055556, 0.5, 'PC2 (0.86%)')"
      ]
     },
     "execution_count": 70,
     "metadata": {},
     "output_type": "execute_result"
    },
    {
     "data": {
      "image/png": "[encoded data removed]",
      "text/plain": [
       "<Figure size 516.75x288 with 1 Axes>"
      ]
     },
     "metadata": {
      "needs_background": "light"
     },
     "output_type": "display_data"
    }
   ],
   "source": [
    "\n",
    "g=sns.FacetGrid(df, hue=\"species\", height=4,aspect=1.5) .map(plt.scatter,\"PC1\", \"PC2\", ).add_legend()\n",
    "plt.title('Scatter plot Iris on PC1 PC2')\n",
    "g.ax.set_xlabel('PC1 (83.71%)')\n",
    "g.ax.set_ylabel('PC2 (0.86%)')\n",
    "#g.ax.set_xlim(-4, 4)\n",
    "#plt.savefig('images/03_pca_lda2.png', dpi=300)"
   ]
  },
  {
   "cell_type": "markdown",
   "metadata": {},
   "source": [
    "Ahora voy a clasificar los datos proyectados porque obviamente se separan linealmente!!!!"
   ]
  },
  {
   "cell_type": "code",
   "execution_count": 71,
   "metadata": {},
   "outputs": [
    {
     "data": {
      "image/png": "[encoded data removed]",
      "text/plain": [
       "<Figure size 516.75x288 with 1 Axes>"
      ]
     },
     "metadata": {
      "needs_background": "light"
     },
     "output_type": "display_data"
    }
   ],
   "source": [
    "\n",
    "\n",
    "lda = LinearDiscriminantAnalysis(solver=\"svd\", store_covariance=True)\n",
    "lda.fit(data,y_labels)\n",
    "\n",
    "\n",
    "# Our 2-dimensional distribution will be over variables X and Y\n",
    "N = 100\n",
    "X3 = np.linspace(-3, 3.5, N)\n",
    "Y3 = np.linspace(-1.5, 2, N)\n",
    "X3, Y3 = np.meshgrid(X3, Y3)\n",
    "\n",
    "#fig = plt.figure(figsize = (10,10))\n",
    "#ax = fig.gca()\n",
    "color_list = ['Blues','Greens','Reds']\n",
    "my_norm = colors.Normalize(vmin=-1.,vmax=1.)\n",
    "\n",
    "g = sns.FacetGrid(df, hue=\"species\", height=4,aspect=1.5 ) .map(plt.scatter, \"PC1\", \"PC2\",)  .add_legend()\n",
    "my_ax = g.ax\n",
    "\n",
    "\n",
    "#Computing the predicted class function for each value on the grid\n",
    "zz3 = np.array(  [lda.predict( np.array([[xx3,yy3]])) \n",
    "                     for xx3, yy3 in zip(np.ravel(X3), np.ravel(Y3)) ] )\n",
    "    \n",
    "#Reshaping the predicted class into the meshgrid shape\n",
    "Z3 = zz3.reshape(X3.shape)\n",
    "\n",
    "\n",
    "#Plot the filled and boundary contours\n",
    "my_ax.contourf( X3, Y3, Z3, 2, alpha = .1, colors = ('blue','green','red'))\n",
    "my_ax.contour( X3, Y3, Z3, 2, alpha = 1, colors = ('blue','green','red'))\n",
    "\n",
    "# Addd axis and title\n",
    "my_ax.set_xlabel('PC1 (90.53%)')\n",
    "my_ax.set_ylabel('PC2 (7.44%)')\n",
    "my_ax.set_title('LDA and boundaries on PC1 PC2')\n",
    "\n",
    "\n",
    "#plt.savefig('images/04_pca_lda2.png', dpi=300)\n",
    "plt.show()"
   ]
  },
  {
   "cell_type": "markdown",
   "metadata": {},
   "source": [
    "Rehago el trabajo de ver como proyecto los datos proyectados en la (única ) componente discriminante"
   ]
  },
  {
   "cell_type": "code",
   "execution_count": 72,
   "metadata": {},
   "outputs": [
    {
     "name": "stdout",
     "output_type": "stream",
     "text": [
      "1.1102230246251565e-16\n"
     ]
    }
   ],
   "source": [
    "lda = LinearDiscriminantAnalysis(n_components=1)\n",
    "X_r2 = lda.fit(data,y_labels).transform(data)\n",
    "m1=np.mean(X_r2[:50])\n",
    "m2=np.mean(X_r2[50:])\n",
    "print((m1+m2)/2)\n",
    "      \n",
    "\n"
   ]
  },
  {
   "cell_type": "code",
   "execution_count": 73,
   "metadata": {},
   "outputs": [],
   "source": [
    "l = [i for i in range(0,100)]\n",
    "df1 = pd.DataFrame(X_r2, columns=[\"LD1\"])\n",
    "df1['cases']=l\n",
    "df1['species'] = iris2.iloc[:, 5]"
   ]
  },
  {
   "cell_type": "code",
   "execution_count": 74,
   "metadata": {},
   "outputs": [
    {
     "data": {
      "text/plain": [
       "[<matplotlib.lines.Line2D at 0x180b8495080>]"
      ]
     },
     "execution_count": 74,
     "metadata": {},
     "output_type": "execute_result"
    },
    {
     "data": {
      "image/png": "[encoded data removed]",
      "text/plain": [
       "<Figure size 372.75x288 with 1 Axes>"
      ]
     },
     "metadata": {
      "needs_background": "light"
     },
     "output_type": "display_data"
    }
   ],
   "source": [
    "g=sns.FacetGrid(df1, hue=\"species\", height=4) .map(plt.scatter,\"cases\", \"LD1\", ).add_legend()\n",
    "plt.title('Scatter plot Iris LD1 vs cases')\n",
    "g.ax.set_xlabel('cases')\n",
    "g.ax.set_ylabel('LD1')\n",
    "#g.ax.set_xlim(-4, 4)\n",
    "\n",
    "#####horizontal line\n",
    "horiz_line_data = np.array([(m1+m2)/2 for i in range(0,100)])\n",
    "plt.plot(df1.cases, horiz_line_data, 'r--') "
   ]
  },
  {
   "cell_type": "markdown",
   "metadata": {},
   "source": [
    "Aquí se ve que el cero separa las clases bastante bien. \n"
   ]
  }
 ],
 "metadata": {
  "kernelspec": {
   "display_name": "Python 3 (ipykernel)",
   "language": "python",
   "name": "python3"
  },
  "language_info": {
   "codemirror_mode": {
    "name": "ipython",
    "version": 3
   },
   "file_extension": ".py",
   "mimetype": "text/x-python",
   "name": "python",
   "nbconvert_exporter": "python",
   "pygments_lexer": "ipython3",
   "version": "3.7.10"
  }
 },
 "nbformat": 4,
 "nbformat_minor": 2
}
